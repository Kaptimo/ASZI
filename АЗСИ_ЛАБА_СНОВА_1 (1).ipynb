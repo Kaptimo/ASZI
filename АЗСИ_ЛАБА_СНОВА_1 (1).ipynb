{
  "cells": [
    {
      "cell_type": "code",
      "execution_count": null,
      "metadata": {
        "colab": {
          "base_uri": "https://localhost:8080/"
        },
        "id": "5KmY6RcePpEO",
        "outputId": "ab3a85b3-5b8e-45b6-f280-6486836df89a"
      },
      "outputs": [
        {
          "name": "stdout",
          "output_type": "stream",
          "text": [
            "Cloning into 'EEL6812_DeepFool_Project'...\n",
            "remote: Enumerating objects: 96, done.\u001b[K\n",
            "remote: Counting objects: 100% (3/3), done.\u001b[K\n",
            "remote: Compressing objects: 100% (2/2), done.\u001b[K\n",
            "remote: Total 96 (delta 2), reused 1 (delta 1), pack-reused 93 (from 1)\u001b[K\n",
            "Receiving objects: 100% (96/96), 33.99 MiB | 33.79 MiB/s, done.\n",
            "Resolving deltas: 100% (27/27), done.\n"
          ]
        }
      ],
      "source": [
        "!git clone https://github.com/ewatson2/EEL6812_DeepFool_Project.git"
      ]
    },
    {
      "cell_type": "markdown",
      "metadata": {
        "id": "YekMfZKOZdj3"
      },
      "source": [
        "**Смена директории и импорт библиотек**"
      ]
    },
    {
      "cell_type": "code",
      "execution_count": null,
      "metadata": {
        "id": "Li6Lc7biRONG"
      },
      "outputs": [],
      "source": [
        "import os\n",
        "os.chdir('EEL6812_DeepFool_Project')"
      ]
    },
    {
      "cell_type": "code",
      "execution_count": null,
      "metadata": {
        "id": "ZT8FaS1XRRUs"
      },
      "outputs": [],
      "source": [
        "import numpy as np\n",
        "import json\n",
        "import torch\n",
        "from torch.utils.data import DataLoader, random_split\n",
        "from torchvision import datasets, models\n",
        "from torchvision.transforms import transforms"
      ]
    },
    {
      "cell_type": "code",
      "execution_count": null,
      "metadata": {
        "id": "ymNda4Q4Ra-8"
      },
      "outputs": [],
      "source": [
        "from models.project_models import FC_500_150, LeNet_CIFAR, LeNet_MNIST, Net\n",
        "from utils.project_utils import get_clip_bounds, evaluate_attack, display_attack"
      ]
    },
    {
      "cell_type": "code",
      "execution_count": null,
      "metadata": {
        "id": "ekj5hHIZ9IHE"
      },
      "outputs": [],
      "source": [
        "import pandas as pd\n",
        "import numpy as np\n",
        "import matplotlib.pyplot as plt"
      ]
    },
    {
      "cell_type": "markdown",
      "metadata": {
        "id": "iEWOBtLY7E0y"
      },
      "source": [
        "Функция evaluate_clean(model, data_loader, device)\n",
        "Эта функция оценивает точность модели на чистых (не атакованных) данных, используя заданный загрузчик данных (data loader).\n",
        "\n",
        "model.eval() — переводит модель в режим оценки (inference). Это отключает такие операции, как dropout и batch normalization, которые используются только во время обучения. Это важно, чтобы результаты оценки были корректными.\n",
        "\n",
        "correct = 0 и total = 0 — инициализация переменных для подсчета количества правильных предсказаний (correct) и общего числа примеров в датасете (total).\n",
        "\n",
        "with torch.no_grad(): — контекстный менеджер, который отключает вычисление градиентов. Это нужно для экономии памяти и ускорения вычислений при оценке модели, так как градиенты не требуются при инференсе (предсказаниях).\n",
        "\n",
        "for inputs, targets in data_loader: — итерация по данным в data_loader. В data_loader загружаются батчи данных (входные данные inputs и соответствующие им метки классов targets).\n",
        "\n",
        "inputs, targets = inputs.to(device), targets.to(device) — перемещает данные (и метки) на нужное устройство (device). Это необходимо, чтобы данные и модель находились на одном устройстве (например, на GPU, если оно доступно).\n",
        "\n",
        "outputs = model(inputs) — прогоняет входные данные через модель, чтобы получить предсказания (выходы).\n",
        "\n",
        "_, predicted = torch.max(outputs.data, 1) — для каждого примера в батче выбирается класс с наибольшей вероятностью (максимум в выходных данных модели). Это позволяет получить индекс предсказанного класса. Аргумент 1 указывает, что операция должна быть выполнена по строкам (для каждого примера в батче).\n",
        "\n",
        "total += targets.size(0) — увеличивает общее количество примеров на размер текущего батча. targets.size(0) возвращает количество примеров в батче.\n",
        "\n",
        "correct += (predicted == targets).sum().item() — подсчитывает количество правильных предсказаний, сравнив предсказанные классы с истинными метками targets. Суммирует количество правильных предсказаний и добавляет их к переменной correct.\n",
        "\n",
        "accuracy = correct / total — вычисляет точность модели как отношение правильно предсказанных примеров к общему числу примеров.\n",
        "\n",
        "print(f'Точность до атаки: {accuracy * 100:.2f}%') — выводит точность в процентах с точностью до двух знаков после запятой.\n",
        "\n",
        "return accuracy — возвращает значение точности."
      ]
    },
    {
      "cell_type": "code",
      "execution_count": null,
      "metadata": {
        "id": "ofXhB92H6qW8"
      },
      "outputs": [],
      "source": [
        "def evaluate_clean(model, data_loader, device):\n",
        "    model.eval()\n",
        "    correct = 0\n",
        "    total = 0\n",
        "\n",
        "    with torch.no_grad():\n",
        "        for inputs, targets in data_loader:\n",
        "            inputs, targets = inputs.to(device), targets.to(device)\n",
        "            outputs = model(inputs)\n",
        "            _, predicted = torch.max(outputs.data, 1)\n",
        "            total += targets.size(0)\n",
        "            correct += (predicted == targets).sum().item()\n",
        "\n",
        "    accuracy = correct / total\n",
        "    print(f'Точность до атаки: {accuracy * 100:.2f}%')\n",
        "    return accuracy"
      ]
    },
    {
      "cell_type": "markdown",
      "metadata": {
        "id": "Ja9x96X_apAu"
      },
      "source": [
        "**Установка случайного значения - номер в списке группы \"21\"**"
      ]
    },
    {
      "cell_type": "code",
      "execution_count": null,
      "metadata": {
        "id": "2a5h2LtMRg-G"
      },
      "outputs": [],
      "source": [
        "rand_seed = 21"
      ]
    },
    {
      "cell_type": "code",
      "execution_count": null,
      "metadata": {
        "id": "pf3PNdeKRlne"
      },
      "outputs": [],
      "source": [
        "np.random.seed(rand_seed)\n",
        "torch.manual_seed(rand_seed)\n",
        "\n",
        "use_cuda = torch.cuda.is_available()\n",
        "device = torch.device('cuda' if use_cuda else 'cpu')"
      ]
    },
    {
      "cell_type": "markdown",
      "metadata": {
        "id": "RcmXvHZOazi2"
      },
      "source": [
        "**Загрузка датасета MNIST**"
      ]
    },
    {
      "cell_type": "code",
      "execution_count": null,
      "metadata": {
        "colab": {
          "base_uri": "https://localhost:8080/"
        },
        "id": "HZDM7B4PX44N",
        "outputId": "166d6ffc-d787-45f1-ad2b-2da0498ffef9"
      },
      "outputs": [
        {
          "name": "stdout",
          "output_type": "stream",
          "text": [
            "Downloading http://yann.lecun.com/exdb/mnist/train-images-idx3-ubyte.gz\n",
            "Failed to download (trying next):\n",
            "HTTP Error 403: Forbidden\n",
            "\n",
            "Downloading https://ossci-datasets.s3.amazonaws.com/mnist/train-images-idx3-ubyte.gz\n",
            "Downloading https://ossci-datasets.s3.amazonaws.com/mnist/train-images-idx3-ubyte.gz to datasets/mnist/MNIST/raw/train-images-idx3-ubyte.gz\n"
          ]
        },
        {
          "name": "stderr",
          "output_type": "stream",
          "text": [
            "100%|██████████| 9.91M/9.91M [00:00<00:00, 17.8MB/s]\n"
          ]
        },
        {
          "name": "stdout",
          "output_type": "stream",
          "text": [
            "Extracting datasets/mnist/MNIST/raw/train-images-idx3-ubyte.gz to datasets/mnist/MNIST/raw\n",
            "\n",
            "Downloading http://yann.lecun.com/exdb/mnist/train-labels-idx1-ubyte.gz\n",
            "Failed to download (trying next):\n",
            "HTTP Error 403: Forbidden\n",
            "\n",
            "Downloading https://ossci-datasets.s3.amazonaws.com/mnist/train-labels-idx1-ubyte.gz\n",
            "Downloading https://ossci-datasets.s3.amazonaws.com/mnist/train-labels-idx1-ubyte.gz to datasets/mnist/MNIST/raw/train-labels-idx1-ubyte.gz\n"
          ]
        },
        {
          "name": "stderr",
          "output_type": "stream",
          "text": [
            "100%|██████████| 28.9k/28.9k [00:00<00:00, 483kB/s]\n"
          ]
        },
        {
          "name": "stdout",
          "output_type": "stream",
          "text": [
            "Extracting datasets/mnist/MNIST/raw/train-labels-idx1-ubyte.gz to datasets/mnist/MNIST/raw\n",
            "\n",
            "Downloading http://yann.lecun.com/exdb/mnist/t10k-images-idx3-ubyte.gz\n",
            "Failed to download (trying next):\n",
            "HTTP Error 403: Forbidden\n",
            "\n",
            "Downloading https://ossci-datasets.s3.amazonaws.com/mnist/t10k-images-idx3-ubyte.gz\n",
            "Downloading https://ossci-datasets.s3.amazonaws.com/mnist/t10k-images-idx3-ubyte.gz to datasets/mnist/MNIST/raw/t10k-images-idx3-ubyte.gz\n"
          ]
        },
        {
          "name": "stderr",
          "output_type": "stream",
          "text": [
            "100%|██████████| 1.65M/1.65M [00:00<00:00, 4.43MB/s]\n"
          ]
        },
        {
          "name": "stdout",
          "output_type": "stream",
          "text": [
            "Extracting datasets/mnist/MNIST/raw/t10k-images-idx3-ubyte.gz to datasets/mnist/MNIST/raw\n",
            "\n",
            "Downloading http://yann.lecun.com/exdb/mnist/t10k-labels-idx1-ubyte.gz\n",
            "Failed to download (trying next):\n",
            "HTTP Error 403: Forbidden\n",
            "\n",
            "Downloading https://ossci-datasets.s3.amazonaws.com/mnist/t10k-labels-idx1-ubyte.gz\n",
            "Downloading https://ossci-datasets.s3.amazonaws.com/mnist/t10k-labels-idx1-ubyte.gz to datasets/mnist/MNIST/raw/t10k-labels-idx1-ubyte.gz\n"
          ]
        },
        {
          "name": "stderr",
          "output_type": "stream",
          "text": [
            "100%|██████████| 4.54k/4.54k [00:00<00:00, 6.06MB/s]"
          ]
        },
        {
          "name": "stdout",
          "output_type": "stream",
          "text": [
            "Extracting datasets/mnist/MNIST/raw/t10k-labels-idx1-ubyte.gz to datasets/mnist/MNIST/raw\n",
            "\n"
          ]
        },
        {
          "name": "stderr",
          "output_type": "stream",
          "text": [
            "\n"
          ]
        }
      ],
      "source": [
        "mnist_mean = 0.5\n",
        "mnist_std = 0.5\n",
        "mnist_dim = 28\n",
        "device = torch.device(\"cuda\" if torch.cuda.is_available() else \"cpu\")\n",
        "mnist_min, mnist_max = get_clip_bounds(mnist_mean, mnist_std, mnist_dim)\n",
        "mnist_min = mnist_min.to(device)\n",
        "mnist_max = mnist_max.to(device)\n",
        "mnist_tf_train = transforms.Compose([\n",
        "  transforms.RandomHorizontalFlip(),\n",
        "  transforms.ToTensor(),\n",
        "  transforms.Normalize(mean=mnist_mean, std=mnist_std)\n",
        "])\n",
        "mnist_tf = transforms.Compose([\n",
        "  transforms.ToTensor(),\n",
        "  transforms.Normalize(mean=mnist_mean, std=mnist_std)\n",
        "])\n",
        "\n",
        "mnist_tf_inv = transforms.Compose([\n",
        "    transforms.Normalize(\n",
        "        mean=0.0,\n",
        "        std=np.divide(1.0, mnist_std)),\n",
        "    transforms.Normalize(\n",
        "        mean=np.multiply(-1.0, mnist_std),\n",
        "        std=1.0)])\n",
        "\n",
        "mnist_temp = datasets.MNIST(root='datasets/mnist', train=True, download=True, transform=mnist_tf_train)\n",
        "mnist_train, mnist_val = random_split(mnist_temp, [50000, 10000])\n",
        "mnist_test = datasets.MNIST(root='datasets/mnist', train=False, download=True, transform=mnist_tf)"
      ]
    },
    {
      "cell_type": "markdown",
      "metadata": {
        "id": "3FF3NzBobFk2"
      },
      "source": [
        "**Загрузка датасета CIFAR-10**"
      ]
    },
    {
      "cell_type": "code",
      "execution_count": null,
      "metadata": {
        "colab": {
          "base_uri": "https://localhost:8080/"
        },
        "id": "He7-QK76YQm1",
        "outputId": "ba4e7e3c-a21a-418a-ccb4-a32186763571"
      },
      "outputs": [
        {
          "name": "stdout",
          "output_type": "stream",
          "text": [
            "Downloading https://www.cs.toronto.edu/~kriz/cifar-10-python.tar.gz to datasets/cifar-10/cifar-10-python.tar.gz\n"
          ]
        },
        {
          "name": "stderr",
          "output_type": "stream",
          "text": [
            "100%|██████████| 170M/170M [00:03<00:00, 48.9MB/s]\n"
          ]
        },
        {
          "name": "stdout",
          "output_type": "stream",
          "text": [
            "Extracting datasets/cifar-10/cifar-10-python.tar.gz to datasets/cifar-10\n",
            "Files already downloaded and verified\n"
          ]
        }
      ],
      "source": [
        "cifar_mean = [0.491, 0.482, 0.447]\n",
        "cifar_std = [0.202, 0.199, 0.201]\n",
        "cifar_dim = 32\n",
        "cifar_min, cifar_max = get_clip_bounds(cifar_mean, cifar_std, cifar_dim)\n",
        "cifar_min = cifar_min.to(device)\n",
        "cifar_max = cifar_max.to(device)\n",
        "cifar_tf_train = transforms.Compose([\n",
        "  transforms.RandomCrop(size=cifar_dim, padding=4),\n",
        "  transforms.RandomHorizontalFlip(),\n",
        "  transforms.ToTensor(),\n",
        "  transforms.Normalize(mean=cifar_mean, std=cifar_std)\n",
        "])\n",
        "cifar_tf = transforms.Compose([\n",
        "  transforms.ToTensor(),\n",
        "  transforms.Normalize(mean=cifar_mean, std=cifar_std)\n",
        "])\n",
        "\n",
        "cifar_tf_inv = transforms.Compose([\n",
        "    transforms.Normalize(\n",
        "        mean=[0.0, 0.0, 0.0],\n",
        "        std=np.divide(1.0, cifar_std)),\n",
        "    transforms.Normalize(\n",
        "        mean=np.multiply(-1.0, cifar_mean),\n",
        "        std=[1.0, 1.0, 1.0])])\n",
        "\n",
        "cifar_temp = datasets.CIFAR10(root='datasets/cifar-10', train=True, download=True, transform=cifar_tf_train)\n",
        "cifar_train, cifar_val = random_split(cifar_temp, [40000, 10000])\n",
        "cifar_test = datasets.CIFAR10(root='datasets/cifar-10', train=False, download=True, transform=cifar_tf)\n",
        "cifar_classes = ['airplane', 'automobile', 'bird', 'cat', 'deer', 'dog', 'frog', 'horse', 'ship', 'truck']"
      ]
    },
    {
      "cell_type": "markdown",
      "metadata": {
        "id": "Mh4uwtDybvi2"
      },
      "source": [
        "**Настройка DataLoader**"
      ]
    },
    {
      "cell_type": "code",
      "execution_count": null,
      "metadata": {
        "colab": {
          "base_uri": "https://localhost:8080/"
        },
        "id": "1OkFf2mmbyCl",
        "outputId": "4f159a98-1e58-4d79-9cd7-046483792a3f"
      },
      "outputs": [
        {
          "name": "stderr",
          "output_type": "stream",
          "text": [
            "/usr/local/lib/python3.10/dist-packages/torch/utils/data/dataloader.py:617: UserWarning: This DataLoader will create 4 worker processes in total. Our suggested max number of worker in current system is 2, which is smaller than what this DataLoader is going to create. Please be aware that excessive worker creation might get DataLoader running slow or even freeze, lower the worker number to avoid potential slowness/freeze if necessary.\n",
            "  warnings.warn(\n"
          ]
        }
      ],
      "source": [
        "batch_size = 64\n",
        "workers = 4\n",
        "mnist_loader_train = DataLoader(mnist_train, batch_size=batch_size, shuffle=True, num_workers=workers)\n",
        "mnist_loader_val = DataLoader(mnist_val, batch_size=batch_size, shuffle=False, num_workers=workers)\n",
        "mnist_loader_test = DataLoader(mnist_test, batch_size=batch_size, shuffle=False, num_workers=workers)\n",
        "cifar_loader_train = DataLoader(cifar_train, batch_size=batch_size, shuffle=True, num_workers=workers)\n",
        "cifar_loader_val = DataLoader(cifar_val, batch_size=batch_size, shuffle=False, num_workers=workers)\n",
        "cifar_loader_test = DataLoader(cifar_test, batch_size=batch_size, shuffle=False, num_workers=workers)"
      ]
    },
    {
      "cell_type": "markdown",
      "metadata": {
        "id": "TpXK7hK9pNhf"
      },
      "source": [
        "# **FGSM Атака**"
      ]
    },
    {
      "cell_type": "code",
      "execution_count": null,
      "metadata": {
        "id": "94r-Jt6SL_G6"
      },
      "outputs": [],
      "source": [
        "fgsm_eps = 10\n",
        "#fgsm_eps = 0.001, 0.02, 0.5, 0.9, 10\n",
        "#fgsm_eps = [0.001, 0.02, 0.5, 0.9, 10]"
      ]
    },
    {
      "cell_type": "markdown",
      "metadata": {
        "id": "vfptkgjVdLW_"
      },
      "source": [
        "**Стойкость к атакам модели LeNet на датасете MNIST**"
      ]
    },
    {
      "cell_type": "code",
      "execution_count": null,
      "metadata": {
        "colab": {
          "base_uri": "https://localhost:8080/",
          "height": 801
        },
        "id": "FyEihcoQe3GN",
        "outputId": "c8d13684-b059-4063-d36a-c0d3a30e93de"
      },
      "outputs": [
        {
          "name": "stderr",
          "output_type": "stream",
          "text": [
            "<ipython-input-16-a421ced483ef>:2: FutureWarning: You are using `torch.load` with `weights_only=False` (the current default value), which uses the default pickle module implicitly. It is possible to construct malicious pickle data which will execute arbitrary code during unpickling (See https://github.com/pytorch/pytorch/blob/main/SECURITY.md#untrusted-models for more details). In a future release, the default value for `weights_only` will be flipped to `True`. This limits the functions that could be executed during unpickling. Arbitrary objects will no longer be allowed to be loaded via this mode unless they are explicitly allowlisted by the user via `torch.serialization.add_safe_globals`. We recommend you start setting `weights_only=True` for any use case where you don't have full control of the loaded file. Please open an issue on GitHub for any issues related to this experimental feature.\n",
            "  model.load_state_dict(torch.load('weights/clean/mnist_lenet.pth'))\n"
          ]
        },
        {
          "name": "stdout",
          "output_type": "stream",
          "text": [
            "Точность до атаки: 98.34%\n"
          ]
        },
        {
          "name": "stderr",
          "output_type": "stream",
          "text": [
            "/usr/local/lib/python3.10/dist-packages/torch/utils/data/dataloader.py:617: UserWarning: This DataLoader will create 4 worker processes in total. Our suggested max number of worker in current system is 2, which is smaller than what this DataLoader is going to create. Please be aware that excessive worker creation might get DataLoader running slow or even freeze, lower the worker number to avoid potential slowness/freeze if necessary.\n",
            "  warnings.warn(\n"
          ]
        },
        {
          "name": "stdout",
          "output_type": "stream",
          "text": [
            "FGSM Batches Complete : (157 / 157)\n",
            "FGSM Test Error : 94.15%\n",
            "FGSM Robustness : 1.46e+00\n",
            "FGSM Time (All Images) : 1.25 s\n",
            "FGSM Time (Per Image) : 125.22 us\n"
          ]
        },
        {
          "data": {
            "image/png": "[encoded data removed]",
            "text/plain": [
              "<Figure size 1200x600 with 1 Axes>"
            ]
          },
          "metadata": {},
          "output_type": "display_data"
        }
      ],
      "source": [
        "model = LeNet_MNIST().to(device)\n",
        "model.load_state_dict(torch.load('weights/clean/mnist_lenet.pth'))\n",
        "\n",
        "evaluate_clean(model, mnist_loader_test, device)\n",
        "\n",
        "evaluate_attack(f'mnist_lenet_fgsm{fgsm_eps}.csv', 'results',\n",
        "                device, model, mnist_loader_test,\n",
        "                mnist_min, mnist_max, fgsm_eps, is_fgsm=True)\n",
        "\n",
        "\n",
        "if device.type == 'cuda':\n",
        "    torch.cuda.empty_cache()\n",
        "\n",
        "\n",
        "\n",
        "fgsm = [0.001, 0.02, 0.5, 0.9, 10]\n",
        "\n",
        "test_errors = [1.69, 2.56, 82.92, 93.80, 94.15]\n",
        "\n",
        "\n",
        "plt.figure(figsize=(12, 6))\n",
        "\n",
        "bar_width = 0.4\n",
        "x_indexes = np.arange(len(fgsm))\n",
        "\n",
        "plt.bar(x_indexes, test_errors, width=bar_width, color='blue', alpha=0.7)\n",
        "plt.title('Зависимость ошибки теста от значения eps (FGSM)')\n",
        "plt.xlabel('epsilon (eps)')\n",
        "plt.ylabel('Ошибка теста (%)')\n",
        "plt.xticks(x_indexes, fgsm)\n",
        "plt.grid(axis='y')\n",
        "plt.axhline(y=98.34, color='red', linestyle='--', label='Точность до атаки: 98.34%')\n",
        "plt.legend()\n",
        "plt.xlim(-bar_width, len(fgsm) - 1 + bar_width)\n",
        "plt.tight_layout()\n",
        "plt.show()"
      ]
    },
    {
      "cell_type": "markdown",
      "metadata": {
        "id": "g4MoflFxfBjM"
      },
      "source": [
        "**Стойкость к атакам модели FC на датасете MNIST**"
      ]
    },
    {
      "cell_type": "code",
      "execution_count": null,
      "metadata": {
        "colab": {
          "base_uri": "https://localhost:8080/",
          "height": 835
        },
        "id": "6ew_powlfZoW",
        "outputId": "7c824f54-59c9-44e6-9e9d-41beb7aa34fe"
      },
      "outputs": [
        {
          "name": "stderr",
          "output_type": "stream",
          "text": [
            "<ipython-input-17-86c4b3caf57a>:2: FutureWarning: You are using `torch.load` with `weights_only=False` (the current default value), which uses the default pickle module implicitly. It is possible to construct malicious pickle data which will execute arbitrary code during unpickling (See https://github.com/pytorch/pytorch/blob/main/SECURITY.md#untrusted-models for more details). In a future release, the default value for `weights_only` will be flipped to `True`. This limits the functions that could be executed during unpickling. Arbitrary objects will no longer be allowed to be loaded via this mode unless they are explicitly allowlisted by the user via `torch.serialization.add_safe_globals`. We recommend you start setting `weights_only=True` for any use case where you don't have full control of the loaded file. Please open an issue on GitHub for any issues related to this experimental feature.\n",
            "  model.load_state_dict(torch.load('weights/clean/mnist_fc.pth'))\n",
            "/usr/local/lib/python3.10/dist-packages/torch/utils/data/dataloader.py:617: UserWarning: This DataLoader will create 4 worker processes in total. Our suggested max number of worker in current system is 2, which is smaller than what this DataLoader is going to create. Please be aware that excessive worker creation might get DataLoader running slow or even freeze, lower the worker number to avoid potential slowness/freeze if necessary.\n",
            "  warnings.warn(\n"
          ]
        },
        {
          "name": "stdout",
          "output_type": "stream",
          "text": [
            "Точность до атаки: 97.03%\n"
          ]
        },
        {
          "name": "stderr",
          "output_type": "stream",
          "text": [
            "/usr/local/lib/python3.10/dist-packages/torch/utils/data/dataloader.py:617: UserWarning: This DataLoader will create 4 worker processes in total. Our suggested max number of worker in current system is 2, which is smaller than what this DataLoader is going to create. Please be aware that excessive worker creation might get DataLoader running slow or even freeze, lower the worker number to avoid potential slowness/freeze if necessary.\n",
            "  warnings.warn(\n"
          ]
        },
        {
          "name": "stdout",
          "output_type": "stream",
          "text": [
            "FGSM Batches Complete : (157 / 157)\n",
            "FGSM Test Error : 99.87%\n",
            "FGSM Robustness : 1.47e+00\n",
            "FGSM Time (All Images) : 0.60 s\n",
            "FGSM Time (Per Image) : 60.07 us\n"
          ]
        },
        {
          "data": {
            "image/png": "[encoded data removed]",
            "text/plain": [
              "<Figure size 1200x600 with 1 Axes>"
            ]
          },
          "metadata": {},
          "output_type": "display_data"
        }
      ],
      "source": [
        "model = FC_500_150().to(device)\n",
        "model.load_state_dict(torch.load('weights/clean/mnist_fc.pth'))\n",
        "\n",
        "evaluate_clean(model, mnist_loader_test, device)\n",
        "\n",
        "evaluate_attack(f'mnist_fc_fgsm{fgsm_eps}.csv', 'results',\n",
        "                device, model, mnist_loader_test,\n",
        "                mnist_min, mnist_max, fgsm_eps, is_fgsm=True)\n",
        "\n",
        "if device.type == 'cuda':\n",
        "    torch.cuda.empty_cache()\n",
        "\n",
        "fgsm = [0.001, 0.02, 0.5, 0.9, 10]\n",
        "\n",
        "test_errors = [3.07, 5.54, 99.21, 99.87, 99.87]\n",
        "\n",
        "\n",
        "plt.figure(figsize=(12, 6))\n",
        "\n",
        "bar_width = 0.4\n",
        "x_indexes = np.arange(len(fgsm))\n",
        "\n",
        "plt.bar(x_indexes, test_errors, width=bar_width, color='blue', alpha=0.7)\n",
        "plt.title('Зависимость ошибки теста от значения eps (FGSM)')\n",
        "plt.xlabel('epsilon (eps)')\n",
        "plt.ylabel('Ошибка теста (%)')\n",
        "plt.xticks(x_indexes, fgsm)\n",
        "plt.grid(axis='y')\n",
        "plt.axhline(y=98.34, color='red', linestyle='--', label='Точность до атаки: 98.34%')\n",
        "plt.legend()\n",
        "plt.xlim(-bar_width, len(fgsm) - 1 + bar_width)\n",
        "plt.tight_layout()\n",
        "plt.show()"
      ]
    },
    {
      "cell_type": "markdown",
      "metadata": {
        "id": "6kiYvCsWflR9"
      },
      "source": [
        "**Стойкость к атакам модели Network-In-Network на датасете CIFAR-10**"
      ]
    },
    {
      "cell_type": "code",
      "execution_count": null,
      "metadata": {
        "colab": {
          "base_uri": "https://localhost:8080/",
          "height": 835
        },
        "id": "eLKsVqGxgAPX",
        "outputId": "f5e5d531-517f-4321-afbf-bfc45c21ca0f"
      },
      "outputs": [
        {
          "name": "stderr",
          "output_type": "stream",
          "text": [
            "<ipython-input-18-412f7b94b9eb>:2: FutureWarning: You are using `torch.load` with `weights_only=False` (the current default value), which uses the default pickle module implicitly. It is possible to construct malicious pickle data which will execute arbitrary code during unpickling (See https://github.com/pytorch/pytorch/blob/main/SECURITY.md#untrusted-models for more details). In a future release, the default value for `weights_only` will be flipped to `True`. This limits the functions that could be executed during unpickling. Arbitrary objects will no longer be allowed to be loaded via this mode unless they are explicitly allowlisted by the user via `torch.serialization.add_safe_globals`. We recommend you start setting `weights_only=True` for any use case where you don't have full control of the loaded file. Please open an issue on GitHub for any issues related to this experimental feature.\n",
            "  model.load_state_dict(torch.load('weights/clean/cifar_nin.pth'))\n",
            "/usr/local/lib/python3.10/dist-packages/torch/utils/data/dataloader.py:617: UserWarning: This DataLoader will create 4 worker processes in total. Our suggested max number of worker in current system is 2, which is smaller than what this DataLoader is going to create. Please be aware that excessive worker creation might get DataLoader running slow or even freeze, lower the worker number to avoid potential slowness/freeze if necessary.\n",
            "  warnings.warn(\n"
          ]
        },
        {
          "name": "stdout",
          "output_type": "stream",
          "text": [
            "Точность до атаки: 90.72%\n"
          ]
        },
        {
          "name": "stderr",
          "output_type": "stream",
          "text": [
            "/usr/local/lib/python3.10/dist-packages/torch/utils/data/dataloader.py:617: UserWarning: This DataLoader will create 4 worker processes in total. Our suggested max number of worker in current system is 2, which is smaller than what this DataLoader is going to create. Please be aware that excessive worker creation might get DataLoader running slow or even freeze, lower the worker number to avoid potential slowness/freeze if necessary.\n",
            "  warnings.warn(\n"
          ]
        },
        {
          "name": "stdout",
          "output_type": "stream",
          "text": [
            "FGSM Batches Complete : (157 / 157)\n",
            "FGSM Test Error : 87.50%\n",
            "FGSM Robustness : 2.46e+00\n",
            "FGSM Time (All Images) : 1.49 s\n",
            "FGSM Time (Per Image) : 148.83 us\n"
          ]
        },
        {
          "data": {
            "image/png": "[encoded data removed]",
            "text/plain": [
              "<Figure size 1200x600 with 1 Axes>"
            ]
          },
          "metadata": {},
          "output_type": "display_data"
        }
      ],
      "source": [
        "model = Net().to(device)\n",
        "model.load_state_dict(torch.load('weights/clean/cifar_nin.pth'))\n",
        "\n",
        "evaluate_clean(model, cifar_loader_test, device)\n",
        "\n",
        "evaluate_attack(f'cifar_nin_fgsm{fgsm_eps}.csv', 'results',\n",
        "                device, model, cifar_loader_test,\n",
        "                cifar_min, cifar_max, fgsm_eps, is_fgsm=True)\n",
        "\n",
        "if device.type == 'cuda':\n",
        "    torch.cuda.empty_cache()\n",
        "\n",
        "fgsm = [0.001, 0.02, 0.5, 0.9, 10]\n",
        "\n",
        "test_errors = [10.12, 30.76, 82.67, 84.62, 87.50]\n",
        "\n",
        "\n",
        "plt.figure(figsize=(12, 6))\n",
        "\n",
        "bar_width = 0.4\n",
        "x_indexes = np.arange(len(fgsm))\n",
        "\n",
        "plt.bar(x_indexes, test_errors, width=bar_width, color='blue', alpha=0.7)\n",
        "plt.title('Зависимость ошибки теста от значения eps (FGSM)')\n",
        "plt.xlabel('epsilon (eps)')\n",
        "plt.ylabel('Ошибка теста (%)')\n",
        "plt.xticks(x_indexes, fgsm)\n",
        "plt.grid(axis='y')\n",
        "plt.axhline(y=98.34, color='red', linestyle='--', label='Точность до атаки: 98.34%')\n",
        "plt.legend()\n",
        "plt.xlim(-bar_width, len(fgsm) - 1 + bar_width)\n",
        "plt.tight_layout()\n",
        "plt.show()"
      ]
    },
    {
      "cell_type": "markdown",
      "metadata": {
        "id": "MZTi0JnJfwB2"
      },
      "source": [
        "**Стойкость к атакам модели LeNet на датасете CIFAR-10**"
      ]
    },
    {
      "cell_type": "code",
      "execution_count": null,
      "metadata": {
        "colab": {
          "background_save": true,
          "base_uri": "https://localhost:8080/"
        },
        "id": "h75oqsCcgFcX",
        "outputId": "2f22036b-07e3-4ea3-dc0c-450bf474d07f"
      },
      "outputs": [
        {
          "name": "stderr",
          "output_type": "stream",
          "text": [
            "<ipython-input-19-fe2d187d7de7>:2: FutureWarning: You are using `torch.load` with `weights_only=False` (the current default value), which uses the default pickle module implicitly. It is possible to construct malicious pickle data which will execute arbitrary code during unpickling (See https://github.com/pytorch/pytorch/blob/main/SECURITY.md#untrusted-models for more details). In a future release, the default value for `weights_only` will be flipped to `True`. This limits the functions that could be executed during unpickling. Arbitrary objects will no longer be allowed to be loaded via this mode unless they are explicitly allowlisted by the user via `torch.serialization.add_safe_globals`. We recommend you start setting `weights_only=True` for any use case where you don't have full control of the loaded file. Please open an issue on GitHub for any issues related to this experimental feature.\n",
            "  model.load_state_dict(torch.load('weights/clean/cifar_lenet.pth'))\n",
            "/usr/local/lib/python3.10/dist-packages/torch/utils/data/dataloader.py:617: UserWarning: This DataLoader will create 4 worker processes in total. Our suggested max number of worker in current system is 2, which is smaller than what this DataLoader is going to create. Please be aware that excessive worker creation might get DataLoader running slow or even freeze, lower the worker number to avoid potential slowness/freeze if necessary.\n",
            "  warnings.warn(\n"
          ]
        },
        {
          "name": "stdout",
          "output_type": "stream",
          "text": [
            "Точность до атаки: 78.66%\n"
          ]
        },
        {
          "name": "stderr",
          "output_type": "stream",
          "text": [
            "/usr/local/lib/python3.10/dist-packages/torch/utils/data/dataloader.py:617: UserWarning: This DataLoader will create 4 worker processes in total. Our suggested max number of worker in current system is 2, which is smaller than what this DataLoader is going to create. Please be aware that excessive worker creation might get DataLoader running slow or even freeze, lower the worker number to avoid potential slowness/freeze if necessary.\n",
            "  warnings.warn(\n"
          ]
        },
        {
          "name": "stdout",
          "output_type": "stream",
          "text": [
            "FGSM Batches Complete : (157 / 157)\n",
            "FGSM Test Error : 89.90%\n",
            "FGSM Robustness : 2.47e+00\n",
            "FGSM Time (All Images) : 1.45 s\n",
            "FGSM Time (Per Image) : 144.77 us\n"
          ]
        },
        {
          "data": {
            "image/png": "[encoded data removed]",
            "text/plain": [
              "<Figure size 1200x600 with 1 Axes>"
            ]
          },
          "metadata": {},
          "output_type": "display_data"
        }
      ],
      "source": [
        "model = LeNet_CIFAR().to(device)\n",
        "model.load_state_dict(torch.load('weights/clean/cifar_lenet.pth'))\n",
        "\n",
        "evaluate_clean(model, cifar_loader_test, device)\n",
        "\n",
        "evaluate_attack(f'cifar_lenet_fgsm{fgsm_eps}.csv', 'results',\n",
        "                device, model, cifar_loader_test,\n",
        "                cifar_min, cifar_max, fgsm_eps, is_fgsm=True)\n",
        "\n",
        "if device.type == 'cuda':\n",
        "    torch.cuda.empty_cache()\n",
        "\n",
        "fgsm = [0.001, 0.02, 0.5, 0.9, 10]\n",
        "\n",
        "test_errors = [22.72, 47.76, 95.17, 92.04, 89.90]\n",
        "\n",
        "\n",
        "plt.figure(figsize=(12, 6))\n",
        "\n",
        "bar_width = 0.4\n",
        "x_indexes = np.arange(len(fgsm))\n",
        "\n",
        "plt.bar(x_indexes, test_errors, width=bar_width, color='blue', alpha=0.7)\n",
        "plt.title('Зависимость ошибки теста от значения eps (FGSM)')\n",
        "plt.xlabel('epsilon (eps)')\n",
        "plt.ylabel('Ошибка теста (%)')\n",
        "plt.xticks(x_indexes, fgsm)\n",
        "plt.grid(axis='y')\n",
        "plt.axhline(y=98.34, color='red', linestyle='--', label='Точность до атаки: 98.34%')\n",
        "plt.legend()\n",
        "plt.xlim(-bar_width, len(fgsm) - 1 + bar_width)\n",
        "plt.tight_layout()\n",
        "plt.show()"
      ]
    },
    {
      "cell_type": "markdown",
      "metadata": {
        "id": "tKS8WHI9pdlO"
      },
      "source": [
        "# **DeepFool атака**"
      ]
    },
    {
      "cell_type": "code",
      "execution_count": null,
      "metadata": {
        "id": "wz_2WeWF8E0f"
      },
      "outputs": [],
      "source": [
        "deep_batch_size = 64\n",
        "deep_num_classes = 10\n",
        "deep_overshoot = 0.02\n",
        "deep_max_iters = 50\n",
        "\n",
        "deep_args = [deep_batch_size, deep_num_classes,\n",
        "             deep_overshoot, deep_max_iters]"
      ]
    },
    {
      "cell_type": "markdown",
      "metadata": {
        "id": "YOikDryxqDCW"
      },
      "source": [
        "**Стойкость к атакам модели LeNet на датасете MNIST**"
      ]
    },
    {
      "cell_type": "code",
      "execution_count": null,
      "metadata": {
        "id": "R3gj0ZIFq4EN"
      },
      "outputs": [],
      "source": [
        "model = LeNet_MNIST().to(device)\n",
        "model.load_state_dict(torch.load('weights/clean/mnist_lenet.pth'))\n",
        "\n",
        "evaluate_clean(model, mnist_loader_test, device)\n",
        "\n",
        "evaluate_attack('mnist_lenet_deepfool.csv', 'results',\n",
        "                device, model, mnist_loader_test,\n",
        "                mnist_min, mnist_max, deep_args, is_fgsm=False)\n",
        "\n",
        "if device.type == 'cuda':\n",
        "    torch.cuda.empty_cache()"
      ]
    },
    {
      "cell_type": "markdown",
      "metadata": {
        "id": "5EjaEheBqMN_"
      },
      "source": [
        "**Стойкость к атакам модели FC на датасете MNIST**"
      ]
    },
    {
      "cell_type": "code",
      "execution_count": null,
      "metadata": {
        "id": "1mLwOv19rCJH"
      },
      "outputs": [],
      "source": [
        "model = FC_500_150().to(device)\n",
        "model.load_state_dict(torch.load('weights/clean/mnist_fc.pth'))\n",
        "\n",
        "evaluate_clean(model, mnist_loader_test, device)\n",
        "\n",
        "evaluate_attack('mnist_fc_deepfool.csv', 'results',\n",
        "                device, model, mnist_loader_test,\n",
        "                mnist_min, mnist_max, deep_args, is_fgsm=False)\n",
        "\n",
        "if device.type == 'cuda':\n",
        "    torch.cuda.empty_cache()"
      ]
    },
    {
      "cell_type": "markdown",
      "metadata": {
        "id": "S3SPdznnqUNu"
      },
      "source": [
        "**Стойкость к атакам модели Network-In-Network на датасете CIFAR-10**"
      ]
    },
    {
      "cell_type": "code",
      "execution_count": null,
      "metadata": {
        "id": "UDzWHmvurSCP"
      },
      "outputs": [],
      "source": [
        "model = Net().to(device)\n",
        "model.load_state_dict(torch.load('weights/clean/cifar_nin.pth'))\n",
        "\n",
        "evaluate_clean(model, cifar_loader_test, device)\n",
        "\n",
        "evaluate_attack('cifar_nin_deepfool.csv', 'results',\n",
        "                device, model, cifar_loader_test,\n",
        "                cifar_min, cifar_max, deep_args, is_fgsm=False)\n",
        "\n",
        "if device.type == 'cuda':\n",
        "    torch.cuda.empty_cache()"
      ]
    },
    {
      "cell_type": "markdown",
      "metadata": {
        "id": "uC7i_S29qXwv"
      },
      "source": [
        "**Стойкость к атакам модели LeNet на датасете CIFAR-10**"
      ]
    },
    {
      "cell_type": "code",
      "execution_count": null,
      "metadata": {
        "id": "nKFfcgYtrYfu"
      },
      "outputs": [],
      "source": [
        "model = LeNet_CIFAR().to(device)\n",
        "model.load_state_dict(torch.load('weights/clean/cifar_lenet.pth'))\n",
        "\n",
        "evaluate_clean(model, cifar_loader_test, device)\n",
        "\n",
        "evaluate_attack('cifar_lenet_deepfool.csv', 'results',\n",
        "                device, model, cifar_loader_test,\n",
        "                cifar_min, cifar_max, deep_args, is_fgsm=False)\n",
        "\n",
        "if device.type == 'cuda':\n",
        "    torch.cuda.empty_cache()"
      ]
    },
    {
      "cell_type": "markdown",
      "metadata": {
        "id": "X-BXL3ZWgmTR"
      },
      "source": [
        "# **Графическое представление атакованных примеров**"
      ]
    },
    {
      "cell_type": "markdown",
      "metadata": {
        "id": "FvW1Gq0TlbOu"
      },
      "source": [
        "**LeNet MNIST**"
      ]
    },
    {
      "cell_type": "code",
      "execution_count": null,
      "metadata": {
        "id": "TIHT-M0QgqI1"
      },
      "outputs": [],
      "source": [
        "model = LeNet_MNIST().to(device)\n",
        "model.load_state_dict(torch.load('weights/clean/mnist_lenet.pth'))\n",
        "\n",
        "display_attack(device, model, mnist_test, mnist_tf_inv,\n",
        "               mnist_min, mnist_max, fgsm_eps, deep_args,\n",
        "               has_labels=False, l2_norm=True, pert_scale=1.0,ц\n",
        "               fig_rows=2, fig_width=25, fig_height=11)\n",
        "\n",
        "if device.type == 'cuda':\n",
        "    torch.cuda.empty_cache()"
      ]
    },
    {
      "cell_type": "markdown",
      "metadata": {
        "id": "G-RF8gFdljNG"
      },
      "source": [
        "**FC MNIST**"
      ]
    },
    {
      "cell_type": "code",
      "execution_count": null,
      "metadata": {
        "id": "aStn3jY7g7l9"
      },
      "outputs": [],
      "source": [
        "model = FC_500_150().to(device)\n",
        "model.load_state_dict(torch.load('weights/clean/mnist_fc.pth'))\n",
        "\n",
        "display_attack(device, model, mnist_test, mnist_tf_inv,\n",
        "               mnist_min, mnist_max, fgsm_eps, deep_args,\n",
        "               has_labels=False, l2_norm=True, pert_scale=1.0,\n",
        "               fig_rows=2, fig_width=25, fig_height=11)\n",
        "\n",
        "if device.type == 'cuda':\n",
        "    torch.cuda.empty_cache()"
      ]
    },
    {
      "cell_type": "markdown",
      "metadata": {
        "id": "iKoxSX-glwyq"
      },
      "source": [
        "**Network-In-Network Model CIFAR-10**"
      ]
    },
    {
      "cell_type": "code",
      "execution_count": null,
      "metadata": {
        "id": "1s3F7w-zkxl4"
      },
      "outputs": [],
      "source": [
        "model = Net().to(device)\n",
        "model.load_state_dict(torch.load('weights/clean/cifar_nin.pth'))\n",
        "\n",
        "display_attack(device, model, cifar_test, cifar_tf_inv,\n",
        "               cifar_min, cifar_max, fgsm_eps, deep_args,\n",
        "               has_labels=False, l2_norm=True, pert_scale=1.0,\n",
        "               fig_rows=2, fig_width=25, fig_height=11,\n",
        "               label_map=cifar_classes)\n",
        "\n",
        "if device.type == 'cuda':\n",
        "    torch.cuda.empty_cache()"
      ]
    },
    {
      "cell_type": "markdown",
      "metadata": {
        "id": "lZbLS4t0l_A1"
      },
      "source": [
        "**LeNet CIFAR-10**"
      ]
    },
    {
      "cell_type": "code",
      "execution_count": null,
      "metadata": {
        "id": "SKWdwDnLk33V"
      },
      "outputs": [],
      "source": [
        "model = LeNet_CIFAR().to(device)\n",
        "model.load_state_dict(torch.load('weights/clean/cifar_lenet.pth'))\n",
        "\n",
        "display_attack(device, model, cifar_test, cifar_tf_inv,\n",
        "               cifar_min, cifar_max, fgsm_eps, deep_args,\n",
        "               has_labels=False, l2_norm=True, pert_scale=1.0,\n",
        "               fig_rows=2, fig_width=25, fig_height=11,\n",
        "               label_map=cifar_classes)\n",
        "\n",
        "if device.type == 'cuda':\n",
        "    torch.cuda.empty_cache()"
      ]
    }
  ],
  "metadata": {
    "accelerator": "GPU",
    "colab": {
      "gpuType": "T4",
      "provenance": []
    },
    "kernelspec": {
      "display_name": "Python 3",
      "name": "python3"
    },
    "language_info": {
      "name": "python"
    }
  },
  "nbformat": 4,
  "nbformat_minor": 0
}